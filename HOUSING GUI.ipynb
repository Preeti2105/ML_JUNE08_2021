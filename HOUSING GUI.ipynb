{
 "cells": [
  {
   "cell_type": "code",
   "execution_count": 2,
   "id": "fb4c5941-d29f-4f40-a4b2-d74c4188ae51",
   "metadata": {},
   "outputs": [],
   "source": [
    "import pandas as pd"
   ]
  },
  {
   "cell_type": "code",
   "execution_count": 4,
   "id": "b08bf49a-b927-4af3-81cf-09b059659a60",
   "metadata": {},
   "outputs": [],
   "source": [
    "from sklearn.model_selection import train_test_split\n",
    "from sklearn.linear_model import LinearRegression"
   ]
  },
  {
   "cell_type": "code",
   "execution_count": 5,
   "id": "f9bde5cd-aa15-4ef0-a1ff-52f648d1143d",
   "metadata": {},
   "outputs": [],
   "source": [
    "import tkinter as tk"
   ]
  },
  {
   "cell_type": "code",
   "execution_count": 6,
   "id": "fb70eaff-4ead-4211-bd28-d539fae27521",
   "metadata": {},
   "outputs": [],
   "source": [
    "import warnings\n",
    "warnings.filterwarnings('ignore')"
   ]
  },
  {
   "cell_type": "code",
   "execution_count": 37,
   "id": "cda1bc81-33b7-40d1-8d77-5e4cae12f19e",
   "metadata": {},
   "outputs": [],
   "source": [
    "app=tk.Tk()\n",
    "app.geometry('600x400')\n",
    "app.configure(bg ='grey')\n",
    "app.title('House_Price_Predicton')\n",
    "\n",
    "income =tk.Variable(app)\n",
    "house_age =tk.Variable(app)\n",
    "rooms=tk.Variable(app)\n",
    "population=tk.Variable(app)\n",
    "m=pd.read_pickle('house_price_predictor.pkl')\n",
    "\n",
    "predicted_price=tk.Variable(app)\n",
    "predicted_price.set(' PRICE:  ')\n",
    "def houseprice():\n",
    "    inc=eval(income.get())\n",
    "    age=eval(house_age.get())\n",
    "    room=eval(rooms.get())\n",
    "    pop=eval(population.get())         \n",
    "    query=pd.DataFrame({'Income':[inc],'House_Age':[age],'No.Of Room':[room],'Population':[pop]})\n",
    "    predicted_price.set(round(m.predict(query)[0],2))\n",
    "    \n",
    "label=tk.Variable(app)\n",
    "\n",
    "\n",
    "entry_income=tk.Entry(app,textvariable = income,width=18)\n",
    "entry_income.place(x=300,y=30,height=25)\n",
    "label1=tk.Label(app,text='Enter Income',bg='yellow',fg='red').place(x=100,y=30) \n",
    "\n",
    "entry_age=tk.Entry(app,textvariable=house_age)\n",
    "entry_age.place(x=300,y=60,height=25)\n",
    "label2=tk.Label(app,text='Enter House Age',bg='yellow',fg='red').place(x=100,y=60)\n",
    "\n",
    "entry_room=tk.Entry(app,textvariable=rooms)\n",
    "entry_room.place(x=300,y=90,height=25)\n",
    "label3=tk.Label(app,text='Enter No. Of Rooms',bg='yellow',fg='red').place(x=100,y=90)\n",
    "\n",
    "entry_pop=tk.Entry(app,textvariable=population)\n",
    "entry_pop.place(x=300,y=120,height=25)\n",
    "label4=tk.Label(app,text='Enter Area Population',bg='yellow',fg='red').place(x=100,y=120)\n",
    "\n",
    "label5=tk.Label(app,textvariable=predicted_price,text='Price_of_house',bg='orange',fg='black').place(x=300,y=300,height=30)\n",
    "button=tk.Button(app,text='Price of House ',font='bold',command=houseprice,bg='pink',fg='red').place(x=220,y=250,height=30)\n",
    "\n",
    "\n",
    "\n",
    "    \n",
    "app.mainloop()"
   ]
  },
  {
   "cell_type": "code",
   "execution_count": null,
   "id": "46566447-e94c-434e-ae91-e57591136eac",
   "metadata": {},
   "outputs": [],
   "source": []
  }
 ],
 "metadata": {
  "kernelspec": {
   "display_name": "Python 3",
   "language": "python",
   "name": "python3"
  },
  "language_info": {
   "codemirror_mode": {
    "name": "ipython",
    "version": 3
   },
   "file_extension": ".py",
   "mimetype": "text/x-python",
   "name": "python",
   "nbconvert_exporter": "python",
   "pygments_lexer": "ipython3",
   "version": "3.8.8"
  }
 },
 "nbformat": 4,
 "nbformat_minor": 5
}
