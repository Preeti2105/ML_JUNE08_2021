{
 "cells": [
  {
   "cell_type": "code",
   "execution_count": null,
   "id": "2bd59e67-33e0-4742-b43a-63794b032b0d",
   "metadata": {},
   "outputs": [],
   "source": [
    "import pandas as pd"
   ]
  },
  {
   "cell_type": "code",
   "execution_count": null,
   "id": "48c8f233-0407-449a-87bf-3cb0b7f47723",
   "metadata": {},
   "outputs": [],
   "source": [
    "import matplotlib.pyplot as plt"
   ]
  },
  {
   "cell_type": "code",
   "execution_count": null,
   "id": "3ee33555-2090-4c56-bf36-979d7b85cd79",
   "metadata": {},
   "outputs": [],
   "source": [
    "import tkinter as tk"
   ]
  },
  {
   "cell_type": "code",
   "execution_count": null,
   "id": "ad3be8b5-5058-424e-9fdf-2cf614b91ca9",
   "metadata": {},
   "outputs": [],
   "source": [
    "import warnings\n",
    "warnings.filterwarnings('ignore')"
   ]
  },
  {
   "cell_type": "code",
   "execution_count": null,
   "id": "dc150946-519c-4698-9da9-0fc448d9c92b",
   "metadata": {},
   "outputs": [],
   "source": [
    "\n",
    "df=pd.read_csv('ml-100k/u.data',sep='\\t',names=['user_id','item_id','rating','ts'])\n",
    "\n",
    "cols=\"item_id|title| release date | video release date |IMDb URL | unknown | Action | Adventure | Animation |Children's | Comedy | Crime | Documentary | Drama | Fantasy |Film-Noir | Horror | Musical | Mystery | Romance | Sci-Fi |Thriller | War | Western |\".split('|')\n",
    "movies=pd.read_csv('ml-100k/u.item',sep='|',names=cols)\n",
    "\n",
    "data=pd.merge(df.drop('ts',axis=1),movies[['item_id' ,'title']],on='item_id')\n",
    "\n",
    "rate_count=data.groupby('title')['rating'].count()\n",
    "\n",
    "df_pivot=data.pivot_table(index='user_id',columns='title',values='rating')\n",
    "\n",
    "movies.columns = movies.columns.str.strip()\n",
    "df.columns = df.columns.str.strip()\n",
    "\n",
    "\n",
    "app=tk.Tk()\n",
    "app.geometry('450x300')\n",
    "app.title('Recommendation Engine')\n",
    "\n",
    "listbox=tk.Listbox(app, height=15,width=30,bg='yellow',fg='black')\n",
    "listbox.place(x=20,y=20) \n",
    "for i,t in enumerate(data['title'].unique()):\n",
    "    listbox.insert(i+1,t)\n",
    "\n",
    "\n",
    "def recommend():\n",
    "    inp=listbox.get(listbox.curselection())\n",
    "    sim_df=pd.DataFrame(df_pivot.corrwith(df_pivot[inp]),columns=['Correlation'])\n",
    "    sim_df['count']=rate_count\n",
    "    recom=sim_df[(sim_df['count']>100)].sort_values('Correlation',ascending=False)\n",
    "    recom.drop(inp,axis=0,inplace=True)\n",
    "    recommended=recom.index[:3]\n",
    "    result1.set(recommended[0])\n",
    "    result2.set(recommended[1])\n",
    "    result3.set(recommended[2])\n",
    "    print(inp)\n",
    "    print(recommended)\n",
    "\n",
    "tk.Button(app,text='Show Recommendation',command=recommend,bg='pink',fg='blue').place(x=250,y=30)\n",
    "\n",
    "result1=tk.Variable(app)\n",
    "result1.set(' ')\n",
    "tk.Label(app,textvariable=result1).place(x=250,y=100)\n",
    "\n",
    "result2=tk.Variable(app)\n",
    "result2.set(' ')\n",
    "tk.Label(app,textvariable=result2).place(x=250,y=130)\n",
    "\n",
    "result3=tk.Variable(app)\n",
    "result3.set(' ')\n",
    "tk.Label(app,textvariable=result3).place(x=250,y=160)\n",
    "\n",
    "\n",
    "\n",
    "app.mainloop()\n",
    "                 "
   ]
  },
  {
   "cell_type": "code",
   "execution_count": null,
   "id": "9f9dea25-dfa9-442b-abae-e7b78cb09cbc",
   "metadata": {},
   "outputs": [],
   "source": []
  }
 ],
 "metadata": {
  "kernelspec": {
   "display_name": "Python 3",
   "language": "python",
   "name": "python3"
  },
  "language_info": {
   "codemirror_mode": {
    "name": "ipython",
    "version": 3
   },
   "file_extension": ".py",
   "mimetype": "text/x-python",
   "name": "python",
   "nbconvert_exporter": "python",
   "pygments_lexer": "ipython3",
   "version": "3.8.8"
  }
 },
 "nbformat": 4,
 "nbformat_minor": 5
}
