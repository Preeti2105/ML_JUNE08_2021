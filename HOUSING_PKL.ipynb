{
 "cells": [
  {
   "cell_type": "code",
   "execution_count": 2,
   "id": "005ec026-e067-4ffa-8021-20fc0f2dc06d",
   "metadata": {},
   "outputs": [],
   "source": [
    "import pandas as pd"
   ]
  },
  {
   "cell_type": "code",
   "execution_count": 3,
   "id": "f4f8f26b-cf4c-44ff-a6a6-11dd29edfc17",
   "metadata": {},
   "outputs": [],
   "source": [
    "m = pd.read_pickle('house_price_predictor.pkl')"
   ]
  },
  {
   "cell_type": "code",
   "execution_count": 4,
   "id": "b7ab43d2-e478-4218-b881-cab5352ae285",
   "metadata": {},
   "outputs": [
    {
     "data": {
      "text/plain": [
       "LinearRegression()"
      ]
     },
     "execution_count": 4,
     "metadata": {},
     "output_type": "execute_result"
    }
   ],
   "source": [
    "m"
   ]
  },
  {
   "cell_type": "code",
   "execution_count": 5,
   "id": "a80885f4-d56a-45bc-b5b8-790208e49520",
   "metadata": {},
   "outputs": [
    {
     "name": "stdin",
     "output_type": "stream",
     "text": [
      "Enter the income: 500000\n",
      "Enter the house age 5\n",
      "Enter the number of rooms: 6\n",
      "Enter the population 30000\n"
     ]
    }
   ],
   "source": [
    "inc = eval(input('Enter the income:'))\n",
    "age = eval(input('Enter the house age'))\n",
    "room = eval(input('Enter the number of rooms:'))\n",
    "pop = eval(input('Enter the population'))\n",
    "\n",
    "query = pd.DataFrame({'income':[inc],'housing_age':[age],'rooms':[room],'population':[pop]})"
   ]
  },
  {
   "cell_type": "code",
   "execution_count": 6,
   "id": "8808aa95-50dd-4f8f-a9ac-3d88cc8fc6d1",
   "metadata": {},
   "outputs": [
    {
     "data": {
      "text/html": [
       "<div>\n",
       "<style scoped>\n",
       "    .dataframe tbody tr th:only-of-type {\n",
       "        vertical-align: middle;\n",
       "    }\n",
       "\n",
       "    .dataframe tbody tr th {\n",
       "        vertical-align: top;\n",
       "    }\n",
       "\n",
       "    .dataframe thead th {\n",
       "        text-align: right;\n",
       "    }\n",
       "</style>\n",
       "<table border=\"1\" class=\"dataframe\">\n",
       "  <thead>\n",
       "    <tr style=\"text-align: right;\">\n",
       "      <th></th>\n",
       "      <th>income</th>\n",
       "      <th>housing_age</th>\n",
       "      <th>rooms</th>\n",
       "      <th>population</th>\n",
       "    </tr>\n",
       "  </thead>\n",
       "  <tbody>\n",
       "    <tr>\n",
       "      <th>0</th>\n",
       "      <td>500000</td>\n",
       "      <td>5</td>\n",
       "      <td>6</td>\n",
       "      <td>30000</td>\n",
       "    </tr>\n",
       "  </tbody>\n",
       "</table>\n",
       "</div>"
      ],
      "text/plain": [
       "   income  housing_age  rooms  population\n",
       "0  500000            5      6       30000"
      ]
     },
     "execution_count": 6,
     "metadata": {},
     "output_type": "execute_result"
    }
   ],
   "source": [
    "query"
   ]
  },
  {
   "cell_type": "code",
   "execution_count": 7,
   "id": "a67e99d2-f26c-4f40-b1e8-2e7b77f9b899",
   "metadata": {},
   "outputs": [
    {
     "data": {
      "text/plain": [
       "10193100.84"
      ]
     },
     "execution_count": 7,
     "metadata": {},
     "output_type": "execute_result"
    }
   ],
   "source": [
    "round(m.predict(query)[0],2)"
   ]
  },
  {
   "cell_type": "markdown",
   "id": "038ba630-a984-4017-94c6-4dc2bcf65510",
   "metadata": {},
   "source": [
    "##OBFUSCATION"
   ]
  },
  {
   "cell_type": "code",
   "execution_count": null,
   "id": "050e6a92-661f-436e-88e5-7e2c2d24e0e5",
   "metadata": {},
   "outputs": [],
   "source": []
  }
 ],
 "metadata": {
  "kernelspec": {
   "display_name": "Python 3",
   "language": "python",
   "name": "python3"
  },
  "language_info": {
   "codemirror_mode": {
    "name": "ipython",
    "version": 3
   },
   "file_extension": ".py",
   "mimetype": "text/x-python",
   "name": "python",
   "nbconvert_exporter": "python",
   "pygments_lexer": "ipython3",
   "version": "3.8.8"
  }
 },
 "nbformat": 4,
 "nbformat_minor": 5
}
